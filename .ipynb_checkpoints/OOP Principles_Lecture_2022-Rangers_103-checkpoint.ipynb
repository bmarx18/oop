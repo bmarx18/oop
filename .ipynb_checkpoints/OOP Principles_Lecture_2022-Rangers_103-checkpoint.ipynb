{
 "cells": [
  {
   "cell_type": "markdown",
   "metadata": {},
   "source": [
    " <h1 align = center> Principles of Object Oriented Programming </h1>"
   ]
  },
  {
   "cell_type": "markdown",
   "metadata": {},
   "source": [
    "#### 4 principles\n",
    "- Encapsulation\n",
    "- Abstraction\n",
    "- Inheritance\n",
    "- Polymorphism\n"
   ]
  },
  {
   "cell_type": "markdown",
   "metadata": {},
   "source": [
    "## 1 ENCAPSULATION"
   ]
  },
  {
   "cell_type": "markdown",
   "metadata": {},
   "source": [
    "In encapsulation, the variables of a class can be made hidden from other classes, and can be accessed only through the methods of their current class. Therefore, it is also known as data hiding.\n",
    "<br><br>\n",
    "Encapsulation can be described as a protective barrier that prevents the code and data being randomly accessed by other code defined outside the class. Access to the data and code is tightly controlled by a class."
   ]
  },
  {
   "cell_type": "code",
   "execution_count": null,
   "metadata": {},
   "outputs": [],
   "source": [
    "from datetime import timedelta, date\n",
    "from IPython.display import Image\n",
    "import requests\n",
    "from time import sleep\n",
    "\n",
    "generic_image = 'codeflix.png'\n"
   ]
  },
  {
   "cell_type": "code",
   "execution_count": null,
   "metadata": {},
   "outputs": [],
   "source": [
    "# attributes from instances are unique to that instance\n",
    "# attributes are protected and only to be accessed by class methods\n",
    "\n",
    "# skip intro\n",
    "# fast forward\n",
    "# subtitles\n",
    "# favorite\n",
    "class Video():\n",
    "    def __init__(self):\n",
    "        self.title = None\n",
    "        self.length = timedelta()\n",
    "        self.link = generic_image\n",
    "        self.subtitles = False\n",
    "        self.sublang = 'English'\n",
    "        self.favs = []\n",
    "     \n",
    "    def set_title(self):\n",
    "        title = input(\"What are you watching? \") \n",
    "        self.title = title\n",
    "        \n",
    "    def subson(self):\n",
    "        self.subtitles = True\n",
    "        print(f\"{self.sublang} subtitles are now on\")\n",
    "              \n",
    "    def changelang(self):\n",
    "        sublang = input(\"What language? \")\n",
    "        self.sublang = sublang\n",
    "        print(f\"subtitles are now in {self.sublang}\")\n",
    "              \n",
    "    def favorites(self):\n",
    "        \n",
    "        fav_show = input(\"What show would you like to add to your favorites?\")\n",
    "        self.favs.append(fav_show)\n",
    "        fav = input(\"Would you like to review your favorites?\")\n",
    "        if fav == \"y\":\n",
    "            sleep(1)\n",
    "            print(f\"Loading your favorites now..\")\n",
    "            print(self.favs)\n",
    "        else:\n",
    "            print(\"Ok fine then....\")\n",
    "        \n",
    "    def play(self):\n",
    "        print(f\"Now playing: {self.title}\")\n",
    "        display(Image(self.link))\n",
    "    def pause(self):\n",
    "        print(\"Video Paused\")\n",
    "        \n",
    "    def __repr__(self):\n",
    "        return f\"{self.title} is {self.length.seconds} seconds long. \"\n"
   ]
  },
  {
   "cell_type": "code",
   "execution_count": null,
   "metadata": {},
   "outputs": [],
   "source": [
    "# my_video = Video()\n",
    "# my_video.set_title()\n",
    "# my_video.changelang()\n",
    "# my_video.favorites()"
   ]
  },
  {
   "cell_type": "code",
   "execution_count": null,
   "metadata": {},
   "outputs": [],
   "source": []
  },
  {
   "cell_type": "markdown",
   "metadata": {},
   "source": [
    "## 2 ABSTRACTION"
   ]
  },
  {
   "cell_type": "markdown",
   "metadata": {},
   "source": [
    "Abstraction is a process of hiding the implementation details from the user, only the functionality will be provided to the user.\n",
    "<br><br>\n"
   ]
  },
  {
   "cell_type": "code",
   "execution_count": null,
   "metadata": {},
   "outputs": [],
   "source": [
    "# difficult to portray when we can see the code we are writing\n",
    "# flask is a great example of abstraction as the user is only concerned\n",
    "# with signing up and adding things to their collection\n",
    "# When you use a website you can't see the code that is making the site run\n",
    "# or the functionality in how data is being transferred\n",
    "# A mixin is a class that provides method implementations\n",
    "# for reuse by multiple related child classes. \n",
    "# However, the inheritance is not implying an is-a relationship. \n",
    "# A mixin doesn't define a new type.\n",
    "# child is more specific\n",
    "\n",
    "class Episode(Video):\n",
    "    def __init__(self,data):\n",
    "        Video.__init__(self)\n",
    "        self.number = data['number']\n",
    "        self.season = data['season']\n",
    "        self.date_aired = data['airdate']\n",
    "        self.summary = data['summary']\n",
    "        self.rating = data['rating']['average']\n",
    "        self.title = data['name']\n",
    "        self.length = timedelta(minutes = data['runtime'])\n",
    "        if data['image']:\n",
    "            self.link = data['image']['medium']\n",
    "        else:\n",
    "            self.link = generic_image"
   ]
  },
  {
   "cell_type": "markdown",
   "metadata": {},
   "source": [
    "## 3 INHERITANCE"
   ]
  },
  {
   "cell_type": "markdown",
   "metadata": {},
   "source": [
    "Inheritance can be defined as the process where one class acquires the properties (methods and fields) of another.\n",
    "<br>\n",
    "<i>(see above)</i>"
   ]
  },
  {
   "cell_type": "code",
   "execution_count": null,
   "metadata": {},
   "outputs": [],
   "source": [
    "class Series():\n",
    "    def __init__(self):\n",
    "        self.id = None\n",
    "        self.network = None\n",
    "        self.seasons = None\n",
    "        self.summary = None\n",
    "        self.title = None\n",
    "        self.genres = []\n",
    "        self.episodes = []\n",
    "        \n",
    "    def get_info(self, query = \"\"):\n",
    "        data = None #<-- in case the show doesn't come back\n",
    "        while not data:\n",
    "            if not query:\n",
    "                query = input(\"What is the name of the series?\")\n",
    "                r = requests.get(f'https://api.tvmaze.com/singlesearch/shows?q={query}')\n",
    "                if r.status_code == 200:\n",
    "                    data = r.json()\n",
    "                    print(data)\n",
    "                else:\n",
    "                    print(f\"Series error: status code {r.status_code}\")\n",
    "                    query = \"\"\n",
    "            else:\n",
    "                r = requests.get(f'https://api.tvmaze.com/singlesearch/shows?q={query}')\n",
    "                if r.status_code == 200:\n",
    "                    data = r.json()\n",
    "                else:\n",
    "                    print(f'Series Error: status code: {r.status_code}')\n",
    "                    query = ''\n",
    "                    \n",
    "        # Use data to build out our attributes\n",
    "        self.id = data['id']\n",
    "        self.title = data['name']\n",
    "        self.summary = data['summary']\n",
    "        self.genres = [genre for genre in data['genres']]\n",
    "        if data['network']:\n",
    "            self.network = data['network']['name']\n",
    "        else:\n",
    "            self.network = data['webChannel']['name']\n",
    "            \n",
    "        # API call for Episodes\n",
    "        r = requests.get(f'https://api.tvmaze.com/shows/{self.id}/episodes')\n",
    "        if r.status_code == 200:\n",
    "            episodes = r.json()\n",
    "        else:\n",
    "            print(f\"Episode erros: status code {r.status_code}\")\n",
    "            return\n",
    "        self.seasons = episodes[-1]['season']\n",
    "        self.episodes = [Episode(ep) for ep in episodes]\n",
    "        print(f\"{self.title} has {len(self.episodes)} episodes.\")\n",
    "        \n",
    "    def play_show(self):\n",
    "        for i in range(len(self.episodes)):\n",
    "            if i > 0 and i % 3 == 0:\n",
    "                watching = input(\"Are you still watching? also get a job y/n\")\n",
    "                if watching.lower().strip() not in ('yes', 'y'):\n",
    "                    break\n",
    "            self.episodes[i].play()\n",
    "            sleep(self.episodes[i].length.seconds/1000)\n",
    "            \n",
    "    def __len__(self):\n",
    "        return len(self.episodes)\n",
    "    \n",
    "    def __repr__(self):\n",
    "        return f\"Title: {self.title}\""
   ]
  },
  {
   "cell_type": "code",
   "execution_count": null,
   "metadata": {},
   "outputs": [],
   "source": [
    "first_show = Series()\n",
    "first_show.get_info()"
   ]
  },
  {
   "cell_type": "code",
   "execution_count": null,
   "metadata": {},
   "outputs": [],
   "source": [
    "first_show.play_show()"
   ]
  },
  {
   "cell_type": "markdown",
   "metadata": {},
   "source": [
    "## 4 POLYMORPHISM"
   ]
  },
  {
   "cell_type": "markdown",
   "metadata": {},
   "source": [
    "In object-oriented programming, polymorphism (from the Greek meaning “having multiple forms”) is the characteristic of being able to assign a different meaning or usage to something in different contexts — specifically, to allow an entity such as a function, or an object to have more than one form.\n",
    "<br><br>\n"
   ]
  },
  {
   "cell_type": "code",
   "execution_count": null,
   "metadata": {},
   "outputs": [],
   "source": [
    "class Theatre:\n",
    "    def __init__(self):\n",
    "        self.users = []\n",
    "        self.watch_list = []\n",
    "        self.current_user = None\n",
    "        \n",
    "    #add a user\n",
    "    def add_user(self, name = \"\"):\n",
    "        if not name:\n",
    "            name = input(\"What is the name of the new user? \")\n",
    "        self.users.append(name.title())\n",
    "        self.choose_user()\n",
    "        \n",
    "    #choose a user\n",
    "    def choose_user(self):\n",
    "        while True:\n",
    "            print(\"Users: \")\n",
    "            for user in self.users:\n",
    "                print(user)\n",
    "            current = input(\"Choose a user: \")\n",
    "            if current.title() in self.users:\n",
    "                self.current_user = current\n",
    "                break\n",
    "            else:\n",
    "                print(f'{current} is not a valid user. ')\n",
    "                \n",
    "    #add to watchlist\n",
    "    def add_to_watch_list(self, query = \"\"):\n",
    "        show = Series()\n",
    "        print(query)\n",
    "        show.get_info(query)\n",
    "        self.watch_list.append(show)\n",
    "        print(self.watch_list)\n",
    "        print(f'{show.title} has been added to the watchlist. ')\n",
    "        \n",
    "    #choose from our watchlist\n",
    "    def choose_from_watch_list(self):\n",
    "        for series in self.watch_list:\n",
    "            print(f'\\n\\n{series} | Episodes: {len(series)}')\n",
    "            print(f'\\nSummary: \\n {series.summary}')\n",
    "            display(Image(series.episodes[0].link))\n",
    "            \n",
    "        watch = input(\"What would you like to watch? \")\n",
    "        if watch.lower() in list(map(lambda x: x.title.lower(), self.watch_list)):\n",
    "            for series in self.watch_list:\n",
    "                if series.title.lower() == watch.lower().strip():\n",
    "                    series.play_show()\n",
    "        else:\n",
    "            response = input(f'{watch} is not in your watch list... would you like to add it? y/n ')\n",
    "                \n",
    "            if response in ('yes', 'y'):\n",
    "                self.add_to_watch_list(watch)\n",
    "                print(self.watch_list)\n",
    "                print('.........')\n",
    "                sleep(2)\n",
    "                print('...........')\n",
    "                self.watch_list[-1].play_show()\n",
    "                \n",
    "    #run function to drive program\n",
    "    def run(self):\n",
    "        \"\"\"\n",
    "        Method Allowing users to choose a series and play episodes\n",
    "        \"\"\"\n",
    "        display(Image(generic_image))\n",
    "        \n",
    "        if self.users:\n",
    "            self.choose_user()\n",
    "        else:\n",
    "            name = input(\"Create a profile: \")\n",
    "            self.add_user(name)\n",
    "            self.current_user = name\n",
    "            print(self.current_user)\n",
    "            print(\"\"\"\n",
    "            What would you like to do?\n",
    "            \n",
    "            Search - Search for shows\n",
    "            Watch - Pick something from your watch list\n",
    "            Add - add a new user\n",
    "            Quit - close the application\n",
    "            \"\"\")\n",
    "            \n",
    "        while True:\n",
    "            response = input(\"What would you like to do? (search, watch, add, quit) \")\n",
    "            \n",
    "            if response.lower() == 'search':\n",
    "                self.add_to_watch_list()\n",
    "            elif response.lower() == 'watch':\n",
    "                self.choose_from_watch_list()\n",
    "            elif response.lower() == 'add':\n",
    "                self.add_user()\n",
    "            elif response.lower() == 'quit':\n",
    "                print(f'Thanks for watching {self.current_user}! Now go outside! ')\n",
    "                break\n",
    "                \n",
    "            else:\n",
    "                print(f'Invalid input. Please try again.')\n",
    "            "
   ]
  },
  {
   "cell_type": "code",
   "execution_count": null,
   "metadata": {
    "scrolled": false
   },
   "outputs": [],
   "source": [
    "codeflix = Theatre()\n",
    "codeflix.run()"
   ]
  },
  {
   "cell_type": "code",
   "execution_count": null,
   "metadata": {},
   "outputs": [],
   "source": []
  },
  {
   "cell_type": "code",
   "execution_count": null,
   "metadata": {},
   "outputs": [],
   "source": []
  },
  {
   "cell_type": "markdown",
   "metadata": {},
   "source": [
    "##  Exercise 1:\n",
    "Discuss what other classes, methods, or fields (attributes) we could make to improve our streaming service using these principles. <br> <br>\n",
    "Start making a few of them and see where it leads..."
   ]
  },
  {
   "cell_type": "code",
   "execution_count": 1,
   "metadata": {},
   "outputs": [
    {
     "ename": "IndentationError",
     "evalue": "expected an indented block (3333711568.py, line 17)",
     "output_type": "error",
     "traceback": [
      "\u001b[0;36m  Input \u001b[0;32mIn [1]\u001b[0;36m\u001b[0m\n\u001b[0;31m    \u001b[0m\n\u001b[0m    ^\u001b[0m\n\u001b[0;31mIndentationError\u001b[0m\u001b[0;31m:\u001b[0m expected an indented block\n"
     ]
    }
   ],
   "source": [
    "#think of things to expand this. doesn't have to be coded out but it can be. \n",
    "#what other attributes could you add to the theatre class to make it better\n",
    "#you can code by you do not have to\n",
    "#what other info can you get from the API\n",
    "#check the table of contents\n",
    "\n",
    "\n",
    "\"\"\"\n",
    "It would be cool to have a cast feature where you can select your favorite actor from the show and it will show \n",
    "their image and what they are known for. Additionally, you could pull what they are credited in. When you see what \n",
    "they are credited in, it will give you the following details:\n",
    "\n",
    "The name of the series.\n",
    "The name of the character they played.\n",
    "The name and number of the episode/episodes they are in.\n",
    "The date it aired.\n",
    "\n",
    "It might be best for functionality to break this down into three different def's. One for seeing the cast on the \n",
    "original show you were on. The second for their individualized api page listing all their data points(shows, appearances,\n",
    "dates, character names, etc.) And the third could be to favorite certain actors.\n",
    "\"\"\"v     \n",
    "\n",
    "#cast\n",
    "def cast():\n",
    "    data = None\n",
    "    while not data:\n",
    "            if not query:\n",
    "                query = input(\"\") #create sufficient query\n",
    "                r = requests.get(f'https://api.tvmaze.com/shows/{id}/cast')\n",
    "                if r.status_code == 200:\n",
    "                    data = r.json()\n",
    "                    print(data)\n",
    "                else:\n",
    "                    print(f\"Cast error: status code {r.status_code}\")\n",
    "                    query = \"\"\n",
    "            else:\n",
    "                r = requests.get(f'https://api.tvmaze.com/singlesearch/shows?q={query}')\n",
    "                if r.status_code == 200:\n",
    "                    data = r.json()\n",
    "                else:\n",
    "                    print(f'Cast Error: status code: {r.status_code}')\n",
    "                    query = ''\n",
    "    \n",
    "     # build out attributes\n",
    "        self.actor.id = data['id']\n",
    "        self.character = [actor for actor in data['person']]\n",
    "\n",
    "def actor(): # is it too dangerous to have a class and method with the same name? It intuitively does. \n",
    "\n",
    "# \n",
    "#\n",
    "#add favorite actor\n",
    "#query would need to be polymorphised ( would it be this even though its not a method but an attribute?) \n",
    "#to now encompass actors and not series\n",
    "def favorited_actor(self, query = \"\"):\n",
    "    person = Actor() #may need to create another class for this section as it could become dense. As it functions like a watch list but has much more data points (attributes)\n",
    "    print(query)\n",
    "    self.fav_actors.append(actor)\n",
    "    print(fav_actors)\n",
    "    print(f'{person.title()} has been added to your favorited actors.)\n",
    "          \n",
    "\n",
    "\"\"\"\n",
    "After imperfectly building out a portion of favorited_actor, it would appear (on thought) that Actor may need to be \n",
    "a class (child to Series() parent). You could inherit then and make it more seamlessly to move between actors on similar\n",
    "or the same series, as the data points would be the same for the series. \n",
    "\"\"\"\n"
   ]
  }
 ],
 "metadata": {
  "kernelspec": {
   "display_name": "Python 3 (ipykernel)",
   "language": "python",
   "name": "python3"
  },
  "language_info": {
   "codemirror_mode": {
    "name": "ipython",
    "version": 3
   },
   "file_extension": ".py",
   "mimetype": "text/x-python",
   "name": "python",
   "nbconvert_exporter": "python",
   "pygments_lexer": "ipython3",
   "version": "3.9.12"
  }
 },
 "nbformat": 4,
 "nbformat_minor": 4
}
